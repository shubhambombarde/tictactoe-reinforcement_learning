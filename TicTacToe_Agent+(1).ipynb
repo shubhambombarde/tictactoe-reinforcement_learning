{
  "nbformat": 4,
  "nbformat_minor": 2,
  "metadata": {
    "colab": {
      "name": "TicTacToe_Agent.ipynb",
      "version": "0.3.2",
      "provenance": [],
      "collapsed_sections": []
    },
    "kernelspec": {
      "name": "python3",
      "display_name": "Python 3.8.10 64-bit ('datascience': conda)"
    },
    "language_info": {
      "name": "python",
      "version": "3.8.10",
      "mimetype": "text/x-python",
      "codemirror_mode": {
        "name": "ipython",
        "version": 3
      },
      "pygments_lexer": "ipython3",
      "nbconvert_exporter": "python",
      "file_extension": ".py"
    },
    "interpreter": {
      "hash": "9aa3c5c6bd8bd23c36c51121fc005bd365272f46ef36cd9fc53ebbe8857fc2c5"
    }
  },
  "cells": [
    {
      "cell_type": "markdown",
      "source": [
        "## Tic-Tac-Toe Agent\n",
        "​\n",
        "In this notebook, you will learn to build an RL agent (using Q-learning) that learns to play Numerical Tic-Tac-Toe with odd numbers. The environment is playing randomly with the agent, i.e. its strategy is to put an even number randomly in an empty cell. The following is the layout of the notebook:\n",
        "        - Defining epsilon-greedy strategy\n",
        "        - Tracking state-action pairs for convergence\n",
        "        - Define hyperparameters for the Q-learning algorithm\n",
        "        - Generating episode and applying Q-update equation\n",
        "        - Checking convergence in Q-values"
      ],
      "metadata": {
        "id": "rznSDgbvGggG",
        "colab_type": "text"
      }
    },
    {
      "cell_type": "markdown",
      "source": [
        "#### Importing libraries\n",
        "Write the code to import Tic-Tac-Toe class from the environment file"
      ],
      "metadata": {
        "id": "8eDb8PxBGggH",
        "colab_type": "text"
      }
    },
    {
      "cell_type": "code",
      "execution_count": 85,
      "source": [
        "# from <TC_Env> import <TicTacToe> - import your class from environment file\r\n",
        "import collections\r\n",
        "import numpy as np\r\n",
        "import random\r\n",
        "import pickle\r\n",
        "import time\r\n",
        "from matplotlib import pyplot as plt"
      ],
      "outputs": [],
      "metadata": {
        "id": "6SFNYceFGggJ",
        "colab_type": "code",
        "colab": {}
      }
    },
    {
      "cell_type": "code",
      "execution_count": 86,
      "source": [
        "# importing environment\r\n",
        "from TCGame_Env1 import TicTacToe\r\n",
        "env = TicTacToe()"
      ],
      "outputs": [],
      "metadata": {}
    },
    {
      "cell_type": "code",
      "execution_count": 87,
      "source": [
        "# Function to convert state array into a string to store it as keys in the dictionary\r\n",
        "# states in Q-dictionary will be of form: x-4-5-3-8-x-x-x-x\r\n",
        "#   x | 4 | 5\r\n",
        "#   ----------\r\n",
        "#   3 | 8 | x\r\n",
        "#   ----------\r\n",
        "#   x | x | x\r\n",
        "\r\n",
        "def Q_state(state):\r\n",
        "    return ('-'.join(str(e) for e in state)).replace('nan','x')"
      ],
      "outputs": [],
      "metadata": {
        "id": "wYLQyopEG8nz",
        "colab_type": "code",
        "colab": {}
      }
    },
    {
      "cell_type": "code",
      "execution_count": 88,
      "source": [
        "# Defining a function which will return valid (all possible actions) actions corresponding to a state\r\n",
        "# Important to avoid errors during deployment.\r\n",
        "\r\n",
        "def valid_actions(state):\r\n",
        "\r\n",
        "    valid_Actions = []\r\n",
        "    \r\n",
        "    valid_Actions = [i for i in env.action_space(state)[0]] ###### -------please call your environment as env\r\n",
        "    return valid_Actions"
      ],
      "outputs": [],
      "metadata": {
        "id": "ZebMOoiVHBBr",
        "colab_type": "code",
        "colab": {}
      }
    },
    {
      "cell_type": "code",
      "execution_count": 89,
      "source": [
        "# Defining a function which will add new Q-values to the Q-dictionary. \r\n",
        "def add_to_dict(state):\r\n",
        "    state1 = Q_state(state)\r\n",
        "    \r\n",
        "    valid_act = valid_actions(state)\r\n",
        "    if state1 not in Q_dict.keys():\r\n",
        "        for action in valid_act:\r\n",
        "            Q_dict[state1][action]=0"
      ],
      "outputs": [],
      "metadata": {
        "id": "IRciPUkYHDWf",
        "colab_type": "code",
        "colab": {}
      }
    },
    {
      "cell_type": "markdown",
      "source": [
        "#### Epsilon-greedy strategy - Write your code here\n",
        "\n",
        "(you can build your epsilon-decay function similar to the one given at the end of the notebook)"
      ],
      "metadata": {
        "id": "fNNi_EfHGggM",
        "colab_type": "text"
      }
    },
    {
      "cell_type": "code",
      "execution_count": 90,
      "source": [
        "# Defining epsilon-greedy policy. You can choose any function epsilon-decay strategy\r\n",
        "\r\n",
        "def epsilon_greedy(state, time):\r\n",
        "    epsilon = min_epsilon + (max_epsilon - min_epsilon) * np.exp(-0.000001*time)\r\n",
        "    z = np.random.random()\r\n",
        "    if z > epsilon:\r\n",
        "        # ===> Q value fetch max value\r\n",
        "        state1 = Q_state(state)\r\n",
        "        action = max(Q_dict[state1],key=Q_dict[state1].get)\r\n",
        "    else:\r\n",
        "        # ===> random action generation\r\n",
        "        agent_actions, env_actions = env.action_space(state)\r\n",
        "        action = random.choice(list(agent_actions))\r\n",
        "    return action\r\n",
        "\r\n"
      ],
      "outputs": [],
      "metadata": {
        "id": "m0lMfqiJGggN",
        "colab_type": "code",
        "colab": {}
      }
    },
    {
      "cell_type": "markdown",
      "source": [
        "#### Tracking the state-action pairs for checking convergence - write your code here"
      ],
      "metadata": {
        "id": "H2kyQHOMGggR",
        "colab_type": "text"
      }
    },
    {
      "cell_type": "code",
      "execution_count": 91,
      "source": [
        "# Initialise Q_dictionary as 'Q_dict' and States_tracked as 'States_track' (for convergence)\r\n",
        "\r\n",
        "Q_dict = collections.defaultdict(dict)\r\n",
        "States_track = collections.defaultdict(dict)\r\n",
        "rewards_tracked =  {(2,1):0,(5,5):0, (8,3): 0, (9,7):0}"
      ],
      "outputs": [],
      "metadata": {
        "id": "qcxZ29vdGggS",
        "colab_type": "code",
        "colab": {}
      }
    },
    {
      "cell_type": "code",
      "execution_count": 92,
      "source": [
        "# Initialise states to be tracked\r\n",
        "def initialise_tracking_states():\r\n",
        "    sample_q_values = [('x-x-x-x-x-x-x-x-x',(6,5)),('x-x-x-x-x-x-x-x-x',(1,9)),\r\n",
        "                       ('x-3-x-x-1-x-x-x-x',(7,5)),('x-5-x-x-x-x-5-7-x',(8,2))]\r\n",
        "    for q_value in sample_q_values:\r\n",
        "        state = q_value[0]\r\n",
        "        action = q_value[1]\r\n",
        "        States_track[state][action] = []  \r\n",
        "        \r\n",
        "\r\n",
        "\r\n",
        "initialise_tracking_states()\r\n",
        "\r\n",
        "States_track\r\n",
        "  \r\n",
        "  "
      ],
      "outputs": [
        {
          "output_type": "execute_result",
          "data": {
            "text/plain": [
              "defaultdict(dict,\n",
              "            {'x-x-x-x-x-x-x-x-x': {(6, 5): [], (1, 9): []},\n",
              "             'x-3-x-x-1-x-x-x-x': {(7, 5): []},\n",
              "             'x-5-x-x-x-x-5-7-x': {(8, 2): []}})"
            ]
          },
          "metadata": {},
          "execution_count": 92
        }
      ],
      "metadata": {
        "id": "vs73iv8fHOxV",
        "colab_type": "code",
        "colab": {}
      }
    },
    {
      "cell_type": "code",
      "execution_count": 93,
      "source": [
        "#Defining a function to save the Q-dictionary as a pickle file\r\n",
        "\r\n",
        "def save_obj(obj, name ):\r\n",
        "    with open(name + '.pkl', 'wb') as f:\r\n",
        "        pickle.dump(obj, f, pickle.HIGHEST_PROTOCOL)"
      ],
      "outputs": [],
      "metadata": {
        "id": "dAbwJDMVHpwl",
        "colab_type": "code",
        "colab": {}
      }
    },
    {
      "cell_type": "code",
      "execution_count": 94,
      "source": [
        "def save_tracking_states():\r\n",
        "    for state in States_track.keys():\r\n",
        "        for action in States_track[state].keys():\r\n",
        "            if state in Q_dict and action in Q_dict[state]:\r\n",
        "                States_track[state][action].append(Q_dict[state][action])"
      ],
      "outputs": [],
      "metadata": {
        "id": "6Pyj7nMVHsBi",
        "colab_type": "code",
        "colab": {}
      }
    },
    {
      "cell_type": "code",
      "execution_count": 95,
      "source": [
        "initialise_tracking_states()"
      ],
      "outputs": [],
      "metadata": {
        "id": "B_8xSluUHvew",
        "colab_type": "code",
        "colab": {}
      }
    },
    {
      "cell_type": "markdown",
      "source": [
        "#### Define hyperparameters  ---write your code here"
      ],
      "metadata": {
        "id": "-iPt--E9GggV",
        "colab_type": "text"
      }
    },
    {
      "cell_type": "code",
      "execution_count": 96,
      "source": [
        "# EPISODES = 15000000\r\n",
        "EPISODES = 20000\r\n",
        "\r\n",
        "LR = 0.01   # learning rate\r\n",
        "GAMMA = 0.91\r\n",
        "\r\n",
        "max_epsilon = 1.0\r\n",
        "min_epsilon = 0.001\r\n",
        "\r\n",
        "threshold = 2000      \r\n",
        "policy_threshold = 30000"
      ],
      "outputs": [],
      "metadata": {
        "id": "G0_f5czFGggW",
        "colab_type": "code",
        "colab": {}
      }
    },
    {
      "cell_type": "markdown",
      "source": [
        "### Q-update loop ---write your code here"
      ],
      "metadata": {
        "id": "Md6twJ7wGggh",
        "colab_type": "text"
      }
    },
    {
      "cell_type": "code",
      "execution_count": 97,
      "source": [
        "start_time = time.time()\r\n",
        "\r\n",
        "for episode in range(EPISODES):\r\n",
        "    env = TicTacToe() # call the environment\r\n",
        "    curr_state = env.state    \r\n",
        "    done = False  \r\n",
        "    add_to_dict(curr_state)  # adding the current state to dictionary\r\n",
        "\r\n",
        "    while done != True:  \r\n",
        "        curr_state1 = Q_state(curr_state)\r\n",
        "        curr_action = epsilon_greedy(curr_state, episode)   # applying epislon method\r\n",
        "        next_state, reward, done = env.step(curr_state, curr_action) # getting rewar\r\n",
        "        next_state_temp = Q_state(next_state)\r\n",
        "        add_to_dict(next_state)\r\n",
        "        \r\n",
        "        # Updating rules\r\n",
        "        if done != True:\r\n",
        "            max_next = max(Q_dict[next_state_temp],key=Q_dict[next_state_temp].get)  \r\n",
        "                #this gets the action corresponding to max q-value of next state\r\n",
        "            Q_dict[curr_state1][curr_action] += LR * ((reward + (GAMMA*(Q_dict[next_state_temp][max_next])))\r\n",
        "                                                      - Q_dict[curr_state1][curr_action] ) \r\n",
        "        else:\r\n",
        "            Q_dict[curr_state1][curr_action] += LR * ((reward - Q_dict[curr_state1][curr_action]))\r\n",
        "\r\n",
        "        # navigating to next state\r\n",
        "        curr_state = next_state\r\n",
        "        \r\n",
        "     #states tracking   \r\n",
        "    if ((episode+1)%threshold)==0:\r\n",
        "        save_tracking_states()\r\n",
        "        save_obj(States_track,'States_tracking')\r\n",
        "#         print(episode) \r\n",
        "\r\n",
        "    if ((episode+1)% policy_threshold) == 0:  #every 300th episodes, the Q-dict will be saved\r\n",
        "        save_obj(Q_dict,'Policy_Q_dict')  \r\n",
        "        \r\n",
        "\r\n",
        "elapsed_time = time.time() - start_time\r\n",
        "save_obj(States_track,'States_tracking')   \r\n",
        "save_obj(Q_dict,'Policy_Q_dict')\r\n",
        "print(elapsed_time)"
      ],
      "outputs": [
        {
          "output_type": "stream",
          "name": "stdout",
          "text": [
            "Saving...\n",
            "Saving...\n",
            "Saving...\n",
            "Saving...\n",
            "Saving...\n",
            "Saving...\n",
            "Saving...\n",
            "Saving...\n",
            "Saving...\n",
            "Saving...\n",
            "26.957234859466553\n"
          ]
        }
      ],
      "metadata": {
        "id": "ldCgQuDNGggj",
        "colab_type": "code",
        "colab": {}
      }
    },
    {
      "cell_type": "code",
      "execution_count": 98,
      "source": [
        "States_track"
      ],
      "outputs": [
        {
          "output_type": "execute_result",
          "data": {
            "text/plain": [
              "defaultdict(dict,\n",
              "            {'x-x-x-x-x-x-x-x-x': {(6, 5): [-0.35489291282311153,\n",
              "               -0.5719745085485342,\n",
              "               -0.7389207683949685,\n",
              "               -0.8111739501692787,\n",
              "               -0.8906156612799708,\n",
              "               -0.9144690741770637,\n",
              "               -0.9384118916684963,\n",
              "               -0.9544704235982733,\n",
              "               -0.9614175198564042,\n",
              "               -0.9645121790767516],\n",
              "              (1, 9): [-0.3573883979152816,\n",
              "               -1.0242326915321114,\n",
              "               -1.5623787118639454,\n",
              "               -1.8452220148625553,\n",
              "               -1.654156097515729,\n",
              "               -1.9121317323660427,\n",
              "               -1.967236399781238,\n",
              "               -1.7432655990034955,\n",
              "               -2.1594492771144926,\n",
              "               -2.0557920636481586]},\n",
              "             'x-3-x-x-1-x-x-x-x': {(7, 5): []},\n",
              "             'x-5-x-x-x-x-5-7-x': {(8, 2): []}})"
            ]
          },
          "metadata": {},
          "execution_count": 98
        }
      ],
      "metadata": {
        "id": "hhdWewc4Gggo",
        "colab_type": "code",
        "colab": {}
      }
    },
    {
      "cell_type": "code",
      "execution_count": null,
      "source": [],
      "outputs": [],
      "metadata": {
        "id": "8LfSgVuHGggu",
        "colab_type": "code",
        "colab": {}
      }
    },
    {
      "cell_type": "markdown",
      "source": [
        "#### Check the Q-dictionary"
      ],
      "metadata": {
        "id": "t6eMFbb8Ggg2",
        "colab_type": "text"
      }
    },
    {
      "cell_type": "code",
      "execution_count": 99,
      "source": [
        "# Q_dict"
      ],
      "outputs": [],
      "metadata": {
        "id": "fr9d2fcVGgg4",
        "colab_type": "code",
        "colab": {}
      }
    },
    {
      "cell_type": "code",
      "execution_count": 100,
      "source": [
        "len(Q_dict)"
      ],
      "outputs": [
        {
          "output_type": "execute_result",
          "data": {
            "text/plain": [
              "47253"
            ]
          },
          "metadata": {},
          "execution_count": 100
        }
      ],
      "metadata": {
        "id": "F1tnDJWkGgg9",
        "colab_type": "code",
        "colab": {}
      }
    },
    {
      "cell_type": "code",
      "execution_count": 101,
      "source": [
        "# try checking for one of the states - that which action your agent thinks is the best  -----This will not be evaluated"
      ],
      "outputs": [],
      "metadata": {
        "id": "cFgUqfcQGghB",
        "colab_type": "code",
        "colab": {}
      }
    },
    {
      "cell_type": "markdown",
      "source": [
        "#### Check the states tracked for Q-values convergence\n",
        "(non-evaluative)"
      ],
      "metadata": {
        "id": "KGPZEQDFGghG",
        "colab_type": "text"
      }
    },
    {
      "cell_type": "code",
      "execution_count": 102,
      "source": [
        "# Write the code for plotting the graphs for state-action pairs tracked\r\n",
        "print(States_track)\r\n",
        "plt.figure(0, figsize=(16,7))\r\n",
        "\r\n",
        "x_axis = np.asarray(range(0, len(States_track['x-x-x-x-x-x-x-x-x'][(6,5)])))\r\n",
        "plt.subplot(221)\r\n",
        "plt.plot(x_axis,np.asarray(States_track['x-x-x-x-x-x-x-x-x'][(6,5)]))\r\n",
        "plt.show\r\n",
        "\r\n",
        "x_axis = np.asarray(range(0, len(States_track['x-3-x-x-1-x-x-x-x'][(7,5)])))\r\n",
        "plt.subplot(222)\r\n",
        "plt.plot(x_axis,np.asarray(States_track['x-3-x-x-1-x-x-x-x'][(7,5)]))\r\n",
        "plt.show\r\n",
        "\r\n",
        "x_axis = np.asarray(range(0, len(States_track['x-x-x-x-x-x-x-x-x'][(1,9)])))\r\n",
        "plt.subplot(223)\r\n",
        "plt.plot(x_axis,np.asarray(States_track['x-x-x-x-x-x-x-x-x'][(1,9)]))\r\n",
        "plt.show\r\n",
        "\r\n",
        "x_axis = np.asarray(range(0, len(States_track['x-5-x-x-x-x-5-7-x'][(8,2)])))\r\n",
        "plt.subplot(224)\r\n",
        "plt.plot(x_axis,np.asarray(States_track['x-5-x-x-x-x-5-7-x'][(8,2)]))\r\n",
        "plt.show"
      ],
      "outputs": [
        {
          "output_type": "stream",
          "name": "stdout",
          "text": [
            "defaultdict(<class 'dict'>, {'x-x-x-x-x-x-x-x-x': {(6, 5): [-0.35489291282311153, -0.5719745085485342, -0.7389207683949685, -0.8111739501692787, -0.8906156612799708, -0.9144690741770637, -0.9384118916684963, -0.9544704235982733, -0.9614175198564042, -0.9645121790767516], (1, 9): [-0.3573883979152816, -1.0242326915321114, -1.5623787118639454, -1.8452220148625553, -1.654156097515729, -1.9121317323660427, -1.967236399781238, -1.7432655990034955, -2.1594492771144926, -2.0557920636481586]}, 'x-3-x-x-1-x-x-x-x': {(7, 5): []}, 'x-5-x-x-x-x-5-7-x': {(8, 2): []}})\n"
          ]
        },
        {
          "output_type": "execute_result",
          "data": {
            "text/plain": [
              "<function matplotlib.pyplot.show(close=None, block=None)>"
            ]
          },
          "metadata": {},
          "execution_count": 102
        },
        {
          "output_type": "display_data",
          "data": {
            "text/plain": [
              "<Figure size 1152x504 with 4 Axes>"
            ],
            "image/png": "[encoded data removed]"
          },
          "metadata": {
            "needs_background": "light"
          }
        }
      ],
      "metadata": {
        "id": "9s1Tvz8HGghH",
        "colab_type": "code",
        "colab": {}
      }
    },
    {
      "cell_type": "code",
      "execution_count": null,
      "source": [],
      "outputs": [],
      "metadata": {
        "id": "pVQInsg7GghL",
        "colab_type": "code",
        "colab": {}
      }
    },
    {
      "cell_type": "markdown",
      "source": [
        "### Epsilon - decay check"
      ],
      "metadata": {
        "id": "b2Opp8_NITkC",
        "colab_type": "text"
      }
    },
    {
      "cell_type": "code",
      "execution_count": 103,
      "source": [
        "max_epsilon = 1.0\r\n",
        "min_epsilon = 0.001\r\n",
        "time = np.arange(0,5000000)\r\n",
        "epsilon = []\r\n",
        "for i in range(0,5000000):\r\n",
        "    epsilon.append(min_epsilon + (max_epsilon - min_epsilon) * np.exp(-0.000001*i))"
      ],
      "outputs": [],
      "metadata": {
        "id": "gQ_D_JsuGghR",
        "colab_type": "code",
        "colab": {}
      }
    },
    {
      "cell_type": "code",
      "execution_count": 104,
      "source": [
        "plt.plot(time, epsilon)\r\n",
        "plt.show()"
      ],
      "outputs": [
        {
          "output_type": "display_data",
          "data": {
            "text/plain": [
              "<Figure size 432x288 with 1 Axes>"
            ],
            "image/png": "[encoded data removed]"
          },
          "metadata": {
            "needs_background": "light"
          }
        }
      ],
      "metadata": {
        "id": "J7c2xADQGghV",
        "colab_type": "code",
        "outputId": "cb60fce3-570b-45fb-bd83-abde3d13b273",
        "colab": {
          "base_uri": "https://localhost:8080/",
          "height": 347
        }
      }
    },
    {
      "cell_type": "code",
      "execution_count": null,
      "source": [],
      "outputs": [],
      "metadata": {
        "id": "59BRf43IJiQ1",
        "colab_type": "code",
        "colab": {}
      }
    }
  ]
}