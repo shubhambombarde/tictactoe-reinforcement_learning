{
  "nbformat": 4,
  "nbformat_minor": 2,
  "metadata": {
    "colab": {
      "name": "TicTacToe_Agent.ipynb",
      "version": "0.3.2",
      "provenance": [],
      "collapsed_sections": []
    },
    "kernelspec": {
      "name": "python3",
      "display_name": "Python 3.8.10 64-bit ('datascience': conda)"
    },
    "language_info": {
      "name": "python",
      "version": "3.8.10",
      "mimetype": "text/x-python",
      "codemirror_mode": {
        "name": "ipython",
        "version": 3
      },
      "pygments_lexer": "ipython3",
      "nbconvert_exporter": "python",
      "file_extension": ".py"
    },
    "interpreter": {
      "hash": "9aa3c5c6bd8bd23c36c51121fc005bd365272f46ef36cd9fc53ebbe8857fc2c5"
    }
  },
  "cells": [
    {
      "cell_type": "markdown",
      "source": [
        "## Tic-Tac-Toe Agent\n",
        "​\n",
        "In this notebook, you will learn to build an RL agent (using Q-learning) that learns to play Numerical Tic-Tac-Toe with odd numbers. The environment is playing randomly with the agent, i.e. its strategy is to put an even number randomly in an empty cell. The following is the layout of the notebook:\n",
        "        - Defining epsilon-greedy strategy\n",
        "        - Tracking state-action pairs for convergence\n",
        "        - Define hyperparameters for the Q-learning algorithm\n",
        "        - Generating episode and applying Q-update equation\n",
        "        - Checking convergence in Q-values"
      ],
      "metadata": {
        "id": "rznSDgbvGggG",
        "colab_type": "text"
      }
    },
    {
      "cell_type": "markdown",
      "source": [
        "#### Importing libraries\n",
        "Write the code to import Tic-Tac-Toe class from the environment file"
      ],
      "metadata": {
        "id": "8eDb8PxBGggH",
        "colab_type": "text"
      }
    },
    {
      "cell_type": "code",
      "execution_count": 1,
      "source": [
        "# from <TC_Env> import <TicTacToe> - import your class from environment file\r\n",
        "import collections\r\n",
        "import numpy as np\r\n",
        "import random\r\n",
        "import pickle\r\n",
        "import time\r\n",
        "from matplotlib import pyplot as plt"
      ],
      "outputs": [],
      "metadata": {
        "id": "6SFNYceFGggJ",
        "colab_type": "code",
        "colab": {}
      }
    },
    {
      "cell_type": "code",
      "execution_count": 2,
      "source": [
        "# importing environment\r\n",
        "from TCGame_Env1 import TicTacToe\r\n",
        "env = TicTacToe()"
      ],
      "outputs": [],
      "metadata": {}
    },
    {
      "cell_type": "code",
      "execution_count": 3,
      "source": [
        "# Function to convert state array into a string to store it as keys in the dictionary\r\n",
        "# states in Q-dictionary will be of form: x-4-5-3-8-x-x-x-x\r\n",
        "#   x | 4 | 5\r\n",
        "#   ----------\r\n",
        "#   3 | 8 | x\r\n",
        "#   ----------\r\n",
        "#   x | x | x\r\n",
        "\r\n",
        "def Q_state(state):\r\n",
        "    return ('-'.join(str(e) for e in state)).replace('nan','x')"
      ],
      "outputs": [],
      "metadata": {
        "id": "wYLQyopEG8nz",
        "colab_type": "code",
        "colab": {}
      }
    },
    {
      "cell_type": "code",
      "execution_count": 4,
      "source": [
        "# Defining a function which will return valid (all possible actions) actions corresponding to a state\r\n",
        "# Important to avoid errors during deployment.\r\n",
        "\r\n",
        "def valid_actions(state):\r\n",
        "\r\n",
        "    valid_Actions = []\r\n",
        "    \r\n",
        "    valid_Actions = [i for i in env.action_space(state)[0]] ###### -------please call your environment as env\r\n",
        "    return valid_Actions"
      ],
      "outputs": [],
      "metadata": {
        "id": "ZebMOoiVHBBr",
        "colab_type": "code",
        "colab": {}
      }
    },
    {
      "cell_type": "code",
      "execution_count": 5,
      "source": [
        "# Defining a function which will add new Q-values to the Q-dictionary. \r\n",
        "def add_to_dict(state):\r\n",
        "    state1 = Q_state(state)\r\n",
        "    \r\n",
        "    valid_act = valid_actions(state)\r\n",
        "    if state1 not in Q_dict.keys():\r\n",
        "        for action in valid_act:\r\n",
        "            Q_dict[state1][action]=0"
      ],
      "outputs": [],
      "metadata": {
        "id": "IRciPUkYHDWf",
        "colab_type": "code",
        "colab": {}
      }
    },
    {
      "cell_type": "markdown",
      "source": [
        "#### Epsilon-greedy strategy - Write your code here\n",
        "\n",
        "(you can build your epsilon-decay function similar to the one given at the end of the notebook)"
      ],
      "metadata": {
        "id": "fNNi_EfHGggM",
        "colab_type": "text"
      }
    },
    {
      "cell_type": "code",
      "execution_count": 6,
      "source": [
        "# Defining epsilon-greedy policy. You can choose any function epsilon-decay strategy\r\n",
        "\r\n",
        "def epsilon_greedy(state, time):\r\n",
        "    epsilon = min_epsilon + (max_epsilon - min_epsilon) * np.exp(-0.000001*time)\r\n",
        "    z = np.random.random()\r\n",
        "    if z > epsilon:\r\n",
        "        # ===> Q value fetch max value\r\n",
        "        state1 = Q_state(state)\r\n",
        "        action = max(Q_dict[state1],key=Q_dict[state1].get)\r\n",
        "    else:\r\n",
        "        # ===> random action generation\r\n",
        "        agent_actions, env_actions = env.action_space(state)\r\n",
        "        action = random.choice(list(agent_actions))\r\n",
        "    return action\r\n",
        "\r\n"
      ],
      "outputs": [],
      "metadata": {
        "id": "m0lMfqiJGggN",
        "colab_type": "code",
        "colab": {}
      }
    },
    {
      "cell_type": "markdown",
      "source": [
        "#### Tracking the state-action pairs for checking convergence - write your code here"
      ],
      "metadata": {
        "id": "H2kyQHOMGggR",
        "colab_type": "text"
      }
    },
    {
      "cell_type": "code",
      "execution_count": 7,
      "source": [
        "# Initialise Q_dictionary as 'Q_dict' and States_tracked as 'States_track' (for convergence)\r\n",
        "\r\n",
        "Q_dict = collections.defaultdict(dict)\r\n",
        "States_track = collections.defaultdict(dict)\r\n",
        "rewards_tracked =  {(2,1):0,(5,5):0, (8,3): 0, (9,7):0}"
      ],
      "outputs": [],
      "metadata": {
        "id": "qcxZ29vdGggS",
        "colab_type": "code",
        "colab": {}
      }
    },
    {
      "cell_type": "code",
      "execution_count": 8,
      "source": [
        "# Initialise states to be tracked\r\n",
        "def initialise_tracking_states():\r\n",
        "    sample_q_values = [('x-x-x-x-x-x-x-x-x',(6,5)),('x-x-x-x-x-x-x-x-x',(1,9)),\r\n",
        "                       ('x-3-x-x-1-x-x-x-x',(7,5)),('x-5-x-x-x-x-5-7-x',(8,2))]\r\n",
        "    for q_value in sample_q_values:\r\n",
        "        state = q_value[0]\r\n",
        "        action = q_value[1]\r\n",
        "        States_track[state][action] = []  \r\n",
        "        \r\n",
        "\r\n",
        "\r\n",
        "initialise_tracking_states()\r\n",
        "\r\n",
        "States_track\r\n",
        "  \r\n",
        "  "
      ],
      "outputs": [
        {
          "output_type": "execute_result",
          "data": {
            "text/plain": [
              "defaultdict(dict,\n",
              "            {'x-x-x-x-x-x-x-x-x': {(6, 5): [], (1, 9): []},\n",
              "             'x-3-x-x-1-x-x-x-x': {(7, 5): []},\n",
              "             'x-5-x-x-x-x-5-7-x': {(8, 2): []}})"
            ]
          },
          "metadata": {},
          "execution_count": 8
        }
      ],
      "metadata": {
        "id": "vs73iv8fHOxV",
        "colab_type": "code",
        "colab": {}
      }
    },
    {
      "cell_type": "code",
      "execution_count": 9,
      "source": [
        "#Defining a function to save the Q-dictionary as a pickle file\r\n",
        "\r\n",
        "def save_obj(obj, name ):\r\n",
        "    with open(name + '.pkl', 'wb') as f:\r\n",
        "        pickle.dump(obj, f, pickle.HIGHEST_PROTOCOL)"
      ],
      "outputs": [],
      "metadata": {
        "id": "dAbwJDMVHpwl",
        "colab_type": "code",
        "colab": {}
      }
    },
    {
      "cell_type": "code",
      "execution_count": 10,
      "source": [
        "def save_tracking_states():\r\n",
        "    for state in States_track.keys():\r\n",
        "        for action in States_track[state].keys():\r\n",
        "            if state in Q_dict and action in Q_dict[state]:\r\n",
        "                States_track[state][action].append(Q_dict[state][action])"
      ],
      "outputs": [],
      "metadata": {
        "id": "6Pyj7nMVHsBi",
        "colab_type": "code",
        "colab": {}
      }
    },
    {
      "cell_type": "code",
      "execution_count": 11,
      "source": [
        "initialise_tracking_states()"
      ],
      "outputs": [],
      "metadata": {
        "id": "B_8xSluUHvew",
        "colab_type": "code",
        "colab": {}
      }
    },
    {
      "cell_type": "markdown",
      "source": [
        "#### Define hyperparameters  ---write your code here"
      ],
      "metadata": {
        "id": "-iPt--E9GggV",
        "colab_type": "text"
      }
    },
    {
      "cell_type": "code",
      "execution_count": 12,
      "source": [
        "# EPISODES = 15000000\r\n",
        "EPISODES = 200000\r\n",
        "\r\n",
        "LR = 0.01   # learning rate\r\n",
        "GAMMA = 0.91\r\n",
        "\r\n",
        "max_epsilon = 1.0\r\n",
        "min_epsilon = 0.001\r\n",
        "\r\n",
        "threshold = 2000      \r\n",
        "policy_threshold = 30000"
      ],
      "outputs": [],
      "metadata": {
        "id": "G0_f5czFGggW",
        "colab_type": "code",
        "colab": {}
      }
    },
    {
      "cell_type": "markdown",
      "source": [
        "### Q-update loop ---write your code here"
      ],
      "metadata": {
        "id": "Md6twJ7wGggh",
        "colab_type": "text"
      }
    },
    {
      "cell_type": "code",
      "execution_count": 13,
      "source": [
        "start_time = time.time()\r\n",
        "\r\n",
        "for episode in range(EPISODES):\r\n",
        "    env = TicTacToe() # call the environment\r\n",
        "    curr_state = env.state    \r\n",
        "    done = False  \r\n",
        "    add_to_dict(curr_state)  # adding the current state to dictionary\r\n",
        "\r\n",
        "    while done != True:  \r\n",
        "        curr_state1 = Q_state(curr_state)\r\n",
        "        curr_action = epsilon_greedy(curr_state, episode)   # applying epislon method\r\n",
        "        next_state, reward, done = env.step(curr_state, curr_action) # getting rewar\r\n",
        "        next_state_temp = Q_state(next_state)\r\n",
        "        add_to_dict(next_state)\r\n",
        "        \r\n",
        "        # Updating rules\r\n",
        "        if done != True:\r\n",
        "            max_next = max(Q_dict[next_state_temp],key=Q_dict[next_state_temp].get)  \r\n",
        "                #this gets the action corresponding to max q-value of next state\r\n",
        "            Q_dict[curr_state1][curr_action] += LR * ((reward + (GAMMA*(Q_dict[next_state_temp][max_next])))\r\n",
        "                                                      - Q_dict[curr_state1][curr_action] ) \r\n",
        "        else:\r\n",
        "            Q_dict[curr_state1][curr_action] += LR * ((reward - Q_dict[curr_state1][curr_action]))\r\n",
        "\r\n",
        "        # navigating to next state\r\n",
        "        curr_state = next_state\r\n",
        "        \r\n",
        "     #states tracking   \r\n",
        "    if ((episode+1)%threshold)==0:\r\n",
        "        save_tracking_states()\r\n",
        "        save_obj(States_track,'States_tracking')\r\n",
        "#         print(episode) \r\n",
        "\r\n",
        "    if ((episode+1)% policy_threshold) == 0:  #every 300th episodes, the Q-dict will be saved\r\n",
        "        save_obj(Q_dict,'Policy_Q_dict')  \r\n",
        "        \r\n",
        "\r\n",
        "elapsed_time = time.time() - start_time\r\n",
        "save_obj(States_track,'States_tracking')   \r\n",
        "save_obj(Q_dict,'Policy_Q_dict')\r\n",
        "print(elapsed_time)"
      ],
      "outputs": [
        {
          "output_type": "stream",
          "name": "stdout",
          "text": [
            "285.04011130332947\n"
          ]
        }
      ],
      "metadata": {
        "id": "ldCgQuDNGggj",
        "colab_type": "code",
        "colab": {}
      }
    },
    {
      "cell_type": "code",
      "execution_count": 14,
      "source": [
        "States_track"
      ],
      "outputs": [
        {
          "output_type": "execute_result",
          "data": {
            "text/plain": [
              "defaultdict(dict,\n",
              "            {'x-x-x-x-x-x-x-x-x': {(6, 5): [-0.4062664752925209,\n",
              "               -0.6443599703568228,\n",
              "               -0.7666214109856404,\n",
              "               -0.8214655368679692,\n",
              "               -0.8662752563144549,\n",
              "               -0.90493533624658,\n",
              "               -0.9230839649537638,\n",
              "               -0.9401349315647588,\n",
              "               -0.9489418031517182,\n",
              "               -0.9533790119270967,\n",
              "               -0.9603278327477545,\n",
              "               -0.9574822410513698,\n",
              "               -0.9627243924646005,\n",
              "               -0.9524627440841715,\n",
              "               -0.9465230094550797,\n",
              "               -0.9477965312978996,\n",
              "               -0.9457661137976673,\n",
              "               -0.9327061969201754,\n",
              "               -0.92303464162082,\n",
              "               -0.9111854986056711,\n",
              "               -0.9125605761720288,\n",
              "               -0.91714658605815,\n",
              "               -0.9132249595031328,\n",
              "               -0.8993482324328419,\n",
              "               -0.8916225159523224,\n",
              "               -0.8957414748283545,\n",
              "               -0.8957849564905834,\n",
              "               -0.880978611876188,\n",
              "               -0.8724710387178828,\n",
              "               -0.8658446607326786,\n",
              "               -0.8549079528914716,\n",
              "               -0.8428168931465966,\n",
              "               -0.8338319231810425,\n",
              "               -0.8432646382056822,\n",
              "               -0.8343024147299382,\n",
              "               -0.8484353639331061,\n",
              "               -0.8392231914851737,\n",
              "               -0.8384309019485915,\n",
              "               -0.844702689378712,\n",
              "               -0.8265259110679429,\n",
              "               -0.8180835347091417,\n",
              "               -0.8070447797656279,\n",
              "               -0.8141599491243651,\n",
              "               -0.8093250856880602,\n",
              "               -0.8087542582767222,\n",
              "               -0.7948675373396162,\n",
              "               -0.7683296591832826,\n",
              "               -0.7692655351550003,\n",
              "               -0.7423533090742751,\n",
              "               -0.7604201050924622,\n",
              "               -0.7246752096943889,\n",
              "               -0.7274002814064618,\n",
              "               -0.725843368464966,\n",
              "               -0.7340131668620329,\n",
              "               -0.7426162347021359,\n",
              "               -0.7329568728896545,\n",
              "               -0.7077249920978703,\n",
              "               -0.692259235121542,\n",
              "               -0.6847093426116831,\n",
              "               -0.6897032310153979,\n",
              "               -0.6488875906048901,\n",
              "               -0.6311094221832504,\n",
              "               -0.6266452624339568,\n",
              "               -0.6677563550915782,\n",
              "               -0.6351810728244469,\n",
              "               -0.649212899552169,\n",
              "               -0.6300993461218002,\n",
              "               -0.6452282496570761,\n",
              "               -0.6267544204076765,\n",
              "               -0.5902021006751965,\n",
              "               -0.5709434419714038,\n",
              "               -0.5953675877287138,\n",
              "               -0.5706423753380591,\n",
              "               -0.5944524006311156,\n",
              "               -0.6216707261851969,\n",
              "               -0.5433052754744279,\n",
              "               -0.4657878370059186,\n",
              "               -0.46569536933304223,\n",
              "               -0.5047570659648913,\n",
              "               -0.4851773918528022,\n",
              "               -0.4958617811313275,\n",
              "               -0.46370218680197856,\n",
              "               -0.4919108271054897,\n",
              "               -0.43611482216346703,\n",
              "               -0.4449416885327288,\n",
              "               -0.45507887889489945,\n",
              "               -0.4186079537211331,\n",
              "               -0.40734098669956886,\n",
              "               -0.409439666912087,\n",
              "               -0.4427190921962629,\n",
              "               -0.4376659263349585,\n",
              "               -0.4584451010685199,\n",
              "               -0.3754297213005218,\n",
              "               -0.38638992227093816,\n",
              "               -0.47049962353080993,\n",
              "               -0.46724703980523996,\n",
              "               -0.4237026138132296,\n",
              "               -0.4174566557723716,\n",
              "               -0.35198853632963095,\n",
              "               -0.33246660853314935],\n",
              "              (1, 9): [-0.6511178034794566,\n",
              "               -1.244813417325353,\n",
              "               -1.451092091405766,\n",
              "               -1.7024081323011602,\n",
              "               -2.559666258727856,\n",
              "               -2.2559275941584307,\n",
              "               -2.550734312950585,\n",
              "               -2.449652882954033,\n",
              "               -2.5619379000048372,\n",
              "               -2.2382938705600144,\n",
              "               -2.122653776996574,\n",
              "               -1.7713284651079693,\n",
              "               -1.9324905133405608,\n",
              "               -2.1653041700528903,\n",
              "               -1.890557400983438,\n",
              "               -1.8013738067147802,\n",
              "               -1.840905389903998,\n",
              "               -1.9089379671096,\n",
              "               -1.9877905600503276,\n",
              "               -2.2458879673703698,\n",
              "               -2.0638210382409388,\n",
              "               -2.0046711115711893,\n",
              "               -1.9312080834862777,\n",
              "               -1.9507487154084928,\n",
              "               -2.044291629650578,\n",
              "               -1.9716293092260093,\n",
              "               -1.893643842387466,\n",
              "               -2.068754565442295,\n",
              "               -1.757523757590636,\n",
              "               -2.12477398098441,\n",
              "               -2.3070600274270916,\n",
              "               -1.9534412106566674,\n",
              "               -1.9095671214186376,\n",
              "               -1.9243977486939379,\n",
              "               -1.6214613576160575,\n",
              "               -1.7520486575084941,\n",
              "               -1.6827058837750595,\n",
              "               -1.6939091061629448,\n",
              "               -1.7789979528440318,\n",
              "               -2.007730992985323,\n",
              "               -1.933248788016073,\n",
              "               -1.8726571647682597,\n",
              "               -2.020038542873903,\n",
              "               -1.9538783110200169,\n",
              "               -2.096956224835893,\n",
              "               -2.0955017065550896,\n",
              "               -2.054051814502657,\n",
              "               -1.7996045709541633,\n",
              "               -1.9805363660624948,\n",
              "               -2.1948105948368912,\n",
              "               -2.3317863024065772,\n",
              "               -2.2541708998954153,\n",
              "               -1.8521337347011613,\n",
              "               -1.9830237208274089,\n",
              "               -1.8741183398476278,\n",
              "               -1.9350172643957966,\n",
              "               -1.8517432102085534,\n",
              "               -2.366348738796168,\n",
              "               -1.9840743703069361,\n",
              "               -2.2104533798967383,\n",
              "               -1.847099921637086,\n",
              "               -1.8498513345684091,\n",
              "               -1.6600361745218717,\n",
              "               -1.7080448568799673,\n",
              "               -1.9344833054240032,\n",
              "               -2.120098575770164,\n",
              "               -1.875773269951354,\n",
              "               -1.7424520609301595,\n",
              "               -1.8244907221917244,\n",
              "               -1.7639404425187992,\n",
              "               -1.5274367414046206,\n",
              "               -1.4709306841151943,\n",
              "               -1.6239340077871378,\n",
              "               -1.5930290265180576,\n",
              "               -1.5955176620718994,\n",
              "               -1.706803206371396,\n",
              "               -1.8511266870539675,\n",
              "               -1.864775786060526,\n",
              "               -1.8314278917690467,\n",
              "               -1.8437842904722357,\n",
              "               -2.0793309969514224,\n",
              "               -1.977702584907541,\n",
              "               -1.9614447496409704,\n",
              "               -1.7732916394944518,\n",
              "               -1.9472434594835724,\n",
              "               -1.7232403460399055,\n",
              "               -1.3568807523904238,\n",
              "               -1.2043990301573475,\n",
              "               -1.2673404695405461,\n",
              "               -1.3568103360533568,\n",
              "               -1.2802646467865282,\n",
              "               -1.1747165649661468,\n",
              "               -1.3582395165206471,\n",
              "               -1.4207417538129108,\n",
              "               -1.435712217691596,\n",
              "               -1.4122952305302086,\n",
              "               -1.3725440685154766,\n",
              "               -1.6099580777038685,\n",
              "               -1.6900995427446563,\n",
              "               -1.4882777301063235]},\n",
              "             'x-3-x-x-1-x-x-x-x': {(7, 5): []},\n",
              "             'x-5-x-x-x-x-5-7-x': {(8, 2): []}})"
            ]
          },
          "metadata": {},
          "execution_count": 14
        }
      ],
      "metadata": {
        "id": "hhdWewc4Gggo",
        "colab_type": "code",
        "colab": {}
      }
    },
    {
      "cell_type": "code",
      "execution_count": null,
      "source": [],
      "outputs": [],
      "metadata": {
        "id": "8LfSgVuHGggu",
        "colab_type": "code",
        "colab": {}
      }
    },
    {
      "cell_type": "markdown",
      "source": [
        "#### Check the Q-dictionary"
      ],
      "metadata": {
        "id": "t6eMFbb8Ggg2",
        "colab_type": "text"
      }
    },
    {
      "cell_type": "code",
      "execution_count": 15,
      "source": [
        "# Q_dict"
      ],
      "outputs": [],
      "metadata": {
        "id": "fr9d2fcVGgg4",
        "colab_type": "code",
        "colab": {}
      }
    },
    {
      "cell_type": "code",
      "execution_count": 16,
      "source": [
        "len(Q_dict)"
      ],
      "outputs": [
        {
          "output_type": "execute_result",
          "data": {
            "text/plain": [
              "372502"
            ]
          },
          "metadata": {},
          "execution_count": 16
        }
      ],
      "metadata": {
        "id": "F1tnDJWkGgg9",
        "colab_type": "code",
        "colab": {}
      }
    },
    {
      "cell_type": "code",
      "execution_count": 17,
      "source": [
        "# try checking for one of the states - that which action your agent thinks is the best  -----This will not be evaluated"
      ],
      "outputs": [],
      "metadata": {
        "id": "cFgUqfcQGghB",
        "colab_type": "code",
        "colab": {}
      }
    },
    {
      "cell_type": "markdown",
      "source": [
        "#### Check the states tracked for Q-values convergence\n",
        "(non-evaluative)"
      ],
      "metadata": {
        "id": "KGPZEQDFGghG",
        "colab_type": "text"
      }
    },
    {
      "cell_type": "code",
      "execution_count": 18,
      "source": [
        "# Write the code for plotting the graphs for state-action pairs tracked\r\n",
        "print(States_track)\r\n",
        "plt.figure(0, figsize=(16,7))\r\n",
        "\r\n",
        "x_axis = np.asarray(range(0, len(States_track['x-x-x-x-x-x-x-x-x'][(6,5)])))\r\n",
        "plt.subplot(221)\r\n",
        "plt.plot(x_axis,np.asarray(States_track['x-x-x-x-x-x-x-x-x'][(6,5)]))\r\n",
        "plt.show\r\n",
        "\r\n",
        "x_axis = np.asarray(range(0, len(States_track['x-3-x-x-1-x-x-x-x'][(7,5)])))\r\n",
        "plt.subplot(222)\r\n",
        "plt.plot(x_axis,np.asarray(States_track['x-3-x-x-1-x-x-x-x'][(7,5)]))\r\n",
        "plt.show\r\n",
        "\r\n",
        "x_axis = np.asarray(range(0, len(States_track['x-x-x-x-x-x-x-x-x'][(1,9)])))\r\n",
        "plt.subplot(223)\r\n",
        "plt.plot(x_axis,np.asarray(States_track['x-x-x-x-x-x-x-x-x'][(1,9)]))\r\n",
        "plt.show\r\n",
        "\r\n",
        "x_axis = np.asarray(range(0, len(States_track['x-5-x-x-x-x-5-7-x'][(8,2)])))\r\n",
        "plt.subplot(224)\r\n",
        "plt.plot(x_axis,np.asarray(States_track['x-5-x-x-x-x-5-7-x'][(8,2)]))\r\n",
        "plt.show"
      ],
      "outputs": [
        {
          "output_type": "stream",
          "name": "stdout",
          "text": [
            "defaultdict(<class 'dict'>, {'x-x-x-x-x-x-x-x-x': {(6, 5): [-0.4062664752925209, -0.6443599703568228, -0.7666214109856404, -0.8214655368679692, -0.8662752563144549, -0.90493533624658, -0.9230839649537638, -0.9401349315647588, -0.9489418031517182, -0.9533790119270967, -0.9603278327477545, -0.9574822410513698, -0.9627243924646005, -0.9524627440841715, -0.9465230094550797, -0.9477965312978996, -0.9457661137976673, -0.9327061969201754, -0.92303464162082, -0.9111854986056711, -0.9125605761720288, -0.91714658605815, -0.9132249595031328, -0.8993482324328419, -0.8916225159523224, -0.8957414748283545, -0.8957849564905834, -0.880978611876188, -0.8724710387178828, -0.8658446607326786, -0.8549079528914716, -0.8428168931465966, -0.8338319231810425, -0.8432646382056822, -0.8343024147299382, -0.8484353639331061, -0.8392231914851737, -0.8384309019485915, -0.844702689378712, -0.8265259110679429, -0.8180835347091417, -0.8070447797656279, -0.8141599491243651, -0.8093250856880602, -0.8087542582767222, -0.7948675373396162, -0.7683296591832826, -0.7692655351550003, -0.7423533090742751, -0.7604201050924622, -0.7246752096943889, -0.7274002814064618, -0.725843368464966, -0.7340131668620329, -0.7426162347021359, -0.7329568728896545, -0.7077249920978703, -0.692259235121542, -0.6847093426116831, -0.6897032310153979, -0.6488875906048901, -0.6311094221832504, -0.6266452624339568, -0.6677563550915782, -0.6351810728244469, -0.649212899552169, -0.6300993461218002, -0.6452282496570761, -0.6267544204076765, -0.5902021006751965, -0.5709434419714038, -0.5953675877287138, -0.5706423753380591, -0.5944524006311156, -0.6216707261851969, -0.5433052754744279, -0.4657878370059186, -0.46569536933304223, -0.5047570659648913, -0.4851773918528022, -0.4958617811313275, -0.46370218680197856, -0.4919108271054897, -0.43611482216346703, -0.4449416885327288, -0.45507887889489945, -0.4186079537211331, -0.40734098669956886, -0.409439666912087, -0.4427190921962629, -0.4376659263349585, -0.4584451010685199, -0.3754297213005218, -0.38638992227093816, -0.47049962353080993, -0.46724703980523996, -0.4237026138132296, -0.4174566557723716, -0.35198853632963095, -0.33246660853314935], (1, 9): [-0.6511178034794566, -1.244813417325353, -1.451092091405766, -1.7024081323011602, -2.559666258727856, -2.2559275941584307, -2.550734312950585, -2.449652882954033, -2.5619379000048372, -2.2382938705600144, -2.122653776996574, -1.7713284651079693, -1.9324905133405608, -2.1653041700528903, -1.890557400983438, -1.8013738067147802, -1.840905389903998, -1.9089379671096, -1.9877905600503276, -2.2458879673703698, -2.0638210382409388, -2.0046711115711893, -1.9312080834862777, -1.9507487154084928, -2.044291629650578, -1.9716293092260093, -1.893643842387466, -2.068754565442295, -1.757523757590636, -2.12477398098441, -2.3070600274270916, -1.9534412106566674, -1.9095671214186376, -1.9243977486939379, -1.6214613576160575, -1.7520486575084941, -1.6827058837750595, -1.6939091061629448, -1.7789979528440318, -2.007730992985323, -1.933248788016073, -1.8726571647682597, -2.020038542873903, -1.9538783110200169, -2.096956224835893, -2.0955017065550896, -2.054051814502657, -1.7996045709541633, -1.9805363660624948, -2.1948105948368912, -2.3317863024065772, -2.2541708998954153, -1.8521337347011613, -1.9830237208274089, -1.8741183398476278, -1.9350172643957966, -1.8517432102085534, -2.366348738796168, -1.9840743703069361, -2.2104533798967383, -1.847099921637086, -1.8498513345684091, -1.6600361745218717, -1.7080448568799673, -1.9344833054240032, -2.120098575770164, -1.875773269951354, -1.7424520609301595, -1.8244907221917244, -1.7639404425187992, -1.5274367414046206, -1.4709306841151943, -1.6239340077871378, -1.5930290265180576, -1.5955176620718994, -1.706803206371396, -1.8511266870539675, -1.864775786060526, -1.8314278917690467, -1.8437842904722357, -2.0793309969514224, -1.977702584907541, -1.9614447496409704, -1.7732916394944518, -1.9472434594835724, -1.7232403460399055, -1.3568807523904238, -1.2043990301573475, -1.2673404695405461, -1.3568103360533568, -1.2802646467865282, -1.1747165649661468, -1.3582395165206471, -1.4207417538129108, -1.435712217691596, -1.4122952305302086, -1.3725440685154766, -1.6099580777038685, -1.6900995427446563, -1.4882777301063235]}, 'x-3-x-x-1-x-x-x-x': {(7, 5): []}, 'x-5-x-x-x-x-5-7-x': {(8, 2): []}})\n"
          ]
        },
        {
          "output_type": "execute_result",
          "data": {
            "text/plain": [
              "<function matplotlib.pyplot.show(close=None, block=None)>"
            ]
          },
          "metadata": {},
          "execution_count": 18
        },
        {
          "output_type": "display_data",
          "data": {
            "text/plain": [
              "<Figure size 1152x504 with 4 Axes>"
            ],
            "image/png": "[encoded data removed]"
          },
          "metadata": {
            "needs_background": "light"
          }
        }
      ],
      "metadata": {
        "id": "9s1Tvz8HGghH",
        "colab_type": "code",
        "colab": {}
      }
    },
    {
      "cell_type": "code",
      "execution_count": null,
      "source": [],
      "outputs": [],
      "metadata": {
        "id": "pVQInsg7GghL",
        "colab_type": "code",
        "colab": {}
      }
    },
    {
      "cell_type": "markdown",
      "source": [
        "### Epsilon - decay check"
      ],
      "metadata": {
        "id": "b2Opp8_NITkC",
        "colab_type": "text"
      }
    },
    {
      "cell_type": "code",
      "execution_count": 19,
      "source": [
        "max_epsilon = 1.0\r\n",
        "min_epsilon = 0.001\r\n",
        "time = np.arange(0,5000000)\r\n",
        "epsilon = []\r\n",
        "for i in range(0,5000000):\r\n",
        "    epsilon.append(min_epsilon + (max_epsilon - min_epsilon) * np.exp(-0.000001*i))"
      ],
      "outputs": [],
      "metadata": {
        "id": "gQ_D_JsuGghR",
        "colab_type": "code",
        "colab": {}
      }
    },
    {
      "cell_type": "code",
      "execution_count": 20,
      "source": [
        "plt.plot(time, epsilon)\r\n",
        "plt.show()"
      ],
      "outputs": [
        {
          "output_type": "display_data",
          "data": {
            "text/plain": [
              "<Figure size 432x288 with 1 Axes>"
            ],
            "image/png": "[encoded data removed]"
          },
          "metadata": {
            "needs_background": "light"
          }
        }
      ],
      "metadata": {
        "id": "J7c2xADQGghV",
        "colab_type": "code",
        "outputId": "cb60fce3-570b-45fb-bd83-abde3d13b273",
        "colab": {
          "base_uri": "https://localhost:8080/",
          "height": 347
        }
      }
    },
    {
      "cell_type": "code",
      "execution_count": null,
      "source": [],
      "outputs": [],
      "metadata": {
        "id": "59BRf43IJiQ1",
        "colab_type": "code",
        "colab": {}
      }
    }
  ]
}